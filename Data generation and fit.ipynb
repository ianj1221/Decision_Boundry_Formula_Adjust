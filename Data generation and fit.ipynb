{
 "cells": [
  {
   "cell_type": "code",
   "execution_count": null,
   "metadata": {},
   "outputs": [],
   "source": [
    "import numpy as np\n",
    "import matplotlib.pyplot as plt\n",
    "\n",
    "x = np.linspace(0, 80, 90)\n",
    "y = np.interp(x, [0, 80], [5, -13])\n",
    "\n",
    "noise = np.random.normal(0, 3, len(y))\n",
    "y_with_noise = y + noise\n",
    "\n",
    "x2 = np.linspace(80, 120, 5)\n",
    "y2 = np.interp(x2, [80, 120], [0, -20])\n",
    "\n",
    "noise2 = np.random.normal(0, 10, len(y2))\n",
    "y_with_noise2 = y2 + noise2\n",
    "\n",
    "x3 = np.linspace(75, 115, 5)\n",
    "y3 = np.interp(x3, [80, 120], [-30, -100])\n",
    "\n",
    "noise3 = np.random.normal(0, 10, len(y3))\n",
    "y_with_noise3 = y3 + noise3\n",
    "\n",
    "x= np.append(x, x2)\n",
    "x = np.append(x, x3)\n",
    "             \n",
    "y_add = np.append(y_with_noise, y_with_noise2)\n",
    "y_add= np.append(y_add, y_with_noise3\n",
    "                  )\n",
    "\n",
    "\n",
    "data_points = list(zip(x, y_add))\n",
    "\n",
    "plt.scatter(x, y_add)\n",
    "plt.xlabel('x')\n",
    "plt.ylabel('y')\n",
    "plt.title('Generated Data with Noise')\n",
    "plt.show()\n",
    "\n",
    "\n"
   ]
  }
 ],
 "metadata": {
  "language_info": {
   "name": "python"
  }
 },
 "nbformat": 4,
 "nbformat_minor": 2
}
